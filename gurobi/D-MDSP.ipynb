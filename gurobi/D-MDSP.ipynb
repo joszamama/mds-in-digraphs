{
 "cells": [
  {
   "attachments": {},
   "cell_type": "markdown",
   "metadata": {},
   "source": [
    "# D-MDSP - Exact algorithm for finding the minimum dominating set in directed graphs"
   ]
  },
  {
   "attachments": {},
   "cell_type": "markdown",
   "metadata": {},
   "source": [
    "$$\n",
    "\\begin{aligned}\n",
    "& \\underset{x}{\\text{minimize}}\n",
    "& & \\sum_{i=1}^{n} x_i \\ \\\\\n",
    "& \\text{subject to}\n",
    "&& \\sum_{j=1}^{n} weigths_{i,j} \\cdot x_j \\geq k \\cdot (1 - x_i), \\quad i=1,\\ldots,n \\ \\\\\n",
    "& & & x_i \\in \\{0,1\\}, \\quad i=1,\\ldots,n\n",
    "\\end{aligned}\n",
    "% & & \\sum_{j=1}^{n} AdjMatrix_{i,j} \\cdot x_j > 0, \\quad i=1,\\ldots,n \\ \\\\\n",
    "$$"
   ]
  },
  {
   "attachments": {},
   "cell_type": "markdown",
   "metadata": {},
   "source": [
    "Given an undirected graph G = (V, E) with vertex set V and edge set E, where each edge e in E has a weight w(e), the Dominating Set with Weighted Edges problem is to find a subset S of V such that:\n",
    "\n",
    "1. For every vertex v in V, either v is in S or v has a neighbor in S. In other words, every vertex in V is either in S or adjacent to a vertex in S. This property is known as domination.\n",
    "\n",
    "2. The sum of the weights of the edges in E between vertices in V that are not in S and vertices in S is at least k. In other words, the sum of w(e) over all edges e between vertices in V\\S and vertices in S is k. This property takes into account the weights of the edges between V\\ S and S.\n",
    "\n",
    "The goal of the Dominating Set with Weighted Edges problem is to find the smallest subset S of V that satisfies the above properties."
   ]
  },
  {
   "attachments": {},
   "cell_type": "markdown",
   "metadata": {},
   "source": [
    "# Importación de librerias"
   ]
  },
  {
   "cell_type": "code",
   "execution_count": 20,
   "metadata": {},
   "outputs": [],
   "source": [
    "import os\n",
    "import gurobipy as gp"
   ]
  },
  {
   "attachments": {},
   "cell_type": "markdown",
   "metadata": {},
   "source": [
    "# Definición de funciones"
   ]
  },
  {
   "attachments": {},
   "cell_type": "markdown",
   "metadata": {},
   "source": [
    "# Definición de parámetros y ejecución"
   ]
  }
 ],
 "metadata": {
  "kernelspec": {
   "display_name": "base",
   "language": "python",
   "name": "python3"
  },
  "language_info": {
   "codemirror_mode": {
    "name": "ipython",
    "version": 3
   },
   "file_extension": ".py",
   "mimetype": "text/x-python",
   "name": "python",
   "nbconvert_exporter": "python",
   "pygments_lexer": "ipython3",
   "version": "3.8.10"
  },
  "orig_nbformat": 4
 },
 "nbformat": 4,
 "nbformat_minor": 2
}
