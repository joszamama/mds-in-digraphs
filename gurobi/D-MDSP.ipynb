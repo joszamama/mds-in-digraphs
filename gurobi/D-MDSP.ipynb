{
 "cells": [
  {
   "attachments": {},
   "cell_type": "markdown",
   "metadata": {},
   "source": [
    "# D-MDSP - Exact algorithm for finding the minimum dominating set in directed graphs"
   ]
  },
  {
   "cell_type": "markdown",
   "metadata": {},
   "source": [
    "### Importación de librerias"
   ]
  },
  {
   "cell_type": "code",
   "execution_count": 34,
   "metadata": {},
   "outputs": [],
   "source": [
    "import os\n",
    "import gurobipy as gp"
   ]
  },
  {
   "cell_type": "markdown",
   "metadata": {},
   "source": [
    "### Definición de funciones"
   ]
  },
  {
   "cell_type": "code",
   "execution_count": 35,
   "metadata": {},
   "outputs": [],
   "source": [
    "def read_adjacency_matrix(file_path):\n",
    "    with open(file_path, 'r') as f:\n",
    "        lines = f.readlines()\n",
    "    adjacency_matrix = []\n",
    "    for line in lines:\n",
    "        row = [int(x) for x in line.strip().split()]\n",
    "        adjacency_matrix.append(row)\n",
    "    return adjacency_matrix"
   ]
  },
  {
   "cell_type": "code",
   "execution_count": 36,
   "metadata": {},
   "outputs": [],
   "source": [
    "def find_minimum_dominating_set(adjacency_matrix, time_limit):\n",
    "    num_vertices = len(adjacency_matrix)\n",
    "    model = gp.Model(\"Directed MDSP\")\n",
    "\n",
    "    # Add variables: 1 if vertex is in the dominating set, 0 otherwise\n",
    "    dominating_vars = model.addVars(num_vertices, vtype=gp.GRB.BINARY, name=\"dominating\")\n",
    "\n",
    "    # Add constraints: each non-dominated vertex is dominated by at least one vertex in the dominating set\n",
    "    for i in range(num_vertices):\n",
    "        neighbors = [j for j in range(num_vertices) if adjacency_matrix[j][i] == 1]\n",
    "        model.addConstr(dominating_vars.sum(neighbors) >= 1)\n",
    "\n",
    "    # Set the objective to minimize the size of the dominating set\n",
    "    model.setObjective(dominating_vars.sum(), sense=gp.GRB.MINIMIZE)\n",
    "\n",
    "    # disable gurobi output\n",
    "    model.setParam('OutputFlag', 0)\n",
    "    \n",
    "    # Set time limit\n",
    "    model.setParam('TimeLimit', time_limit)\n",
    "    \n",
    "    # Optimize model\n",
    "    model.optimize()\n",
    "\n",
    "    # Retrieve and print the results\n",
    "    dominating_set = [i for i in range(num_vertices) if dominating_vars[i].X > 0.5]\n",
    "    return dominating_set, model.Runtime, model.MIPGap, model.status == gp.GRB.OPTIMAL"
   ]
  },
  {
   "cell_type": "code",
   "execution_count": 37,
   "metadata": {},
   "outputs": [],
   "source": [
    "def execute_wmdsp(folder, time_limit):\n",
    "    with open(\"../src/main/resources/results/\" + folder + \".csv\", 'a') as f:\n",
    "        f.write(\"filename;size;dominating_set;runtime;mipgap;optimal\\n\")\n",
    "\n",
    "    # for each file in the folder\n",
    "    for filename in os.listdir(\"../src/main/resources/graphs/\" + folder + \"/\"):\n",
    "        # read the adjacency matrix\n",
    "        adjacency_matrix = read_adjacency_matrix(os.path.join(\"../src/main/resources/graphs/\" + folder + \"/\", filename))\n",
    "        # find the minimum dominating set\n",
    "        dominating_set, runtime, mipgap, optimal = find_minimum_dominating_set(adjacency_matrix, time_limit)\n",
    "\n",
    "        # export the results with columns named \"filename, size, dominating_set, runtime, mipgap, optimal\" to a csv file and split by \";\"\n",
    "        with open(\"../src/main/resources/results/\" + folder + \".csv\", 'a') as f:\n",
    "            f.write(filename + \";\" + str(len(dominating_set)) + \";\" + str(dominating_set) + \";\" + str(runtime) + \";\" + str(mipgap) + \";\" + str(optimal) + \"\\n\")"
   ]
  },
  {
   "cell_type": "markdown",
   "metadata": {},
   "source": [
    "### Definición de parámetros y ejecución"
   ]
  },
  {
   "cell_type": "code",
   "execution_count": 38,
   "metadata": {},
   "outputs": [],
   "source": [
    "execute_wmdsp(\"test\", 60)"
   ]
  }
 ],
 "metadata": {
  "kernelspec": {
   "display_name": "base",
   "language": "python",
   "name": "python3"
  },
  "language_info": {
   "codemirror_mode": {
    "name": "ipython",
    "version": 3
   },
   "file_extension": ".py",
   "mimetype": "text/x-python",
   "name": "python",
   "nbconvert_exporter": "python",
   "pygments_lexer": "ipython3",
   "version": "3.9.10"
  },
  "orig_nbformat": 4
 },
 "nbformat": 4,
 "nbformat_minor": 2
}
